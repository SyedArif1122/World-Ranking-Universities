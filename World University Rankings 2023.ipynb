{
 "cells": [
  {
   "cell_type": "markdown",
   "id": "c068a1d0",
   "metadata": {},
   "source": [
    "# World University Rankings 2023"
   ]
  },
  {
   "cell_type": "markdown",
   "id": "1b3ba75c",
   "metadata": {},
   "source": [
    "Welcome to the \"Exploring the World's Top Universities in 2023\" Jupyter notebook project. In this project, we delve into the fascinating world of higher education and academia to analyze the rankings of universities from around the globe for the year 2023.\n",
    "\n",
    "The landscape of higher education is continually evolving, with universities competing for recognition in various academic fields. Using the latest data available, we will explore and visualize the rankings of universities based on different criteria such as academic performance, research output, international diversity, and more."
   ]
  },
  {
   "cell_type": "markdown",
   "id": "6ff2a48f",
   "metadata": {},
   "source": [
    "# Import Library"
   ]
  },
  {
   "cell_type": "code",
   "execution_count": 1,
   "id": "df179ad8",
   "metadata": {},
   "outputs": [],
   "source": [
    "import pandas as pd"
   ]
  },
  {
   "cell_type": "code",
   "execution_count": 2,
   "id": "517a0fd1",
   "metadata": {},
   "outputs": [
    {
     "name": "stderr",
     "output_type": "stream",
     "text": [
      "C:\\Users\\Syed Arif\\anaconda3\\lib\\site-packages\\scipy\\__init__.py:146: UserWarning: A NumPy version >=1.16.5 and <1.23.0 is required for this version of SciPy (detected version 1.25.1\n",
      "  warnings.warn(f\"A NumPy version >={np_minversion} and <{np_maxversion}\"\n"
     ]
    }
   ],
   "source": [
    "import pandas as pd\n",
    "import seaborn as sns\n",
    "import matplotlib.pyplot as plt\n",
    "import seaborn as sns"
   ]
  },
  {
   "cell_type": "markdown",
   "id": "4b0eb245",
   "metadata": {},
   "source": [
    "# Uploading Csv fle"
   ]
  },
  {
   "cell_type": "code",
   "execution_count": 3,
   "id": "ddda5ead",
   "metadata": {},
   "outputs": [],
   "source": [
    "df = pd.read_csv(r\"C:\\Users\\Syed Arif\\Desktop\\World University Rankings 2023.csv\")"
   ]
  },
  {
   "cell_type": "markdown",
   "id": "c5597201",
   "metadata": {},
   "source": [
    "# Data Preprocessing\n"
   ]
  },
  {
   "cell_type": "markdown",
   "id": "aace63f6",
   "metadata": {},
   "source": [
    "# .head()"
   ]
  },
  {
   "cell_type": "markdown",
   "id": "b7a66965",
   "metadata": {},
   "source": [
    "head is used show to the By default = 5 rows in the dataset"
   ]
  },
  {
   "cell_type": "code",
   "execution_count": 4,
   "id": "1c714689",
   "metadata": {},
   "outputs": [
    {
     "data": {
      "text/html": [
       "<div>\n",
       "<style scoped>\n",
       "    .dataframe tbody tr th:only-of-type {\n",
       "        vertical-align: middle;\n",
       "    }\n",
       "\n",
       "    .dataframe tbody tr th {\n",
       "        vertical-align: top;\n",
       "    }\n",
       "\n",
       "    .dataframe thead th {\n",
       "        text-align: right;\n",
       "    }\n",
       "</style>\n",
       "<table border=\"1\" class=\"dataframe\">\n",
       "  <thead>\n",
       "    <tr style=\"text-align: right;\">\n",
       "      <th></th>\n",
       "      <th>University Rank</th>\n",
       "      <th>Name of University</th>\n",
       "      <th>Location</th>\n",
       "      <th>No of student</th>\n",
       "      <th>No of student per staff</th>\n",
       "      <th>International Student</th>\n",
       "      <th>Female:Male Ratio</th>\n",
       "      <th>OverAll Score</th>\n",
       "      <th>Teaching Score</th>\n",
       "      <th>Research Score</th>\n",
       "      <th>Citations Score</th>\n",
       "      <th>Industry Income Score</th>\n",
       "      <th>International Outlook Score</th>\n",
       "    </tr>\n",
       "  </thead>\n",
       "  <tbody>\n",
       "    <tr>\n",
       "      <th>0</th>\n",
       "      <td>1</td>\n",
       "      <td>University of Oxford</td>\n",
       "      <td>United Kingdom</td>\n",
       "      <td>20,965</td>\n",
       "      <td>10.6</td>\n",
       "      <td>42%</td>\n",
       "      <td>48 : 52</td>\n",
       "      <td>96.4</td>\n",
       "      <td>92.3</td>\n",
       "      <td>99.7</td>\n",
       "      <td>99.0</td>\n",
       "      <td>74.9</td>\n",
       "      <td>96.2</td>\n",
       "    </tr>\n",
       "    <tr>\n",
       "      <th>1</th>\n",
       "      <td>2</td>\n",
       "      <td>Harvard University</td>\n",
       "      <td>United States</td>\n",
       "      <td>21,887</td>\n",
       "      <td>9.6</td>\n",
       "      <td>25%</td>\n",
       "      <td>50 : 50</td>\n",
       "      <td>95.2</td>\n",
       "      <td>94.8</td>\n",
       "      <td>99.0</td>\n",
       "      <td>99.3</td>\n",
       "      <td>49.5</td>\n",
       "      <td>80.5</td>\n",
       "    </tr>\n",
       "    <tr>\n",
       "      <th>2</th>\n",
       "      <td>3</td>\n",
       "      <td>University of Cambridge</td>\n",
       "      <td>United Kingdom</td>\n",
       "      <td>20,185</td>\n",
       "      <td>11.3</td>\n",
       "      <td>39%</td>\n",
       "      <td>47 : 53</td>\n",
       "      <td>94.8</td>\n",
       "      <td>90.9</td>\n",
       "      <td>99.5</td>\n",
       "      <td>97.0</td>\n",
       "      <td>54.2</td>\n",
       "      <td>95.8</td>\n",
       "    </tr>\n",
       "    <tr>\n",
       "      <th>3</th>\n",
       "      <td>3</td>\n",
       "      <td>Stanford University</td>\n",
       "      <td>United States</td>\n",
       "      <td>16,164</td>\n",
       "      <td>7.1</td>\n",
       "      <td>24%</td>\n",
       "      <td>46 : 54</td>\n",
       "      <td>94.8</td>\n",
       "      <td>94.2</td>\n",
       "      <td>96.7</td>\n",
       "      <td>99.8</td>\n",
       "      <td>65.0</td>\n",
       "      <td>79.8</td>\n",
       "    </tr>\n",
       "    <tr>\n",
       "      <th>4</th>\n",
       "      <td>5</td>\n",
       "      <td>Massachusetts Institute of Technology</td>\n",
       "      <td>United States</td>\n",
       "      <td>11,415</td>\n",
       "      <td>8.2</td>\n",
       "      <td>33%</td>\n",
       "      <td>40 : 60</td>\n",
       "      <td>94.2</td>\n",
       "      <td>90.7</td>\n",
       "      <td>93.6</td>\n",
       "      <td>99.8</td>\n",
       "      <td>90.9</td>\n",
       "      <td>89.3</td>\n",
       "    </tr>\n",
       "  </tbody>\n",
       "</table>\n",
       "</div>"
      ],
      "text/plain": [
       "  University Rank                     Name of University        Location  \\\n",
       "0               1                   University of Oxford  United Kingdom   \n",
       "1               2                     Harvard University   United States   \n",
       "2               3                University of Cambridge  United Kingdom   \n",
       "3               3                    Stanford University   United States   \n",
       "4               5  Massachusetts Institute of Technology   United States   \n",
       "\n",
       "  No of student  No of student per staff International Student  \\\n",
       "0        20,965                     10.6                   42%   \n",
       "1        21,887                      9.6                   25%   \n",
       "2        20,185                     11.3                   39%   \n",
       "3        16,164                      7.1                   24%   \n",
       "4        11,415                      8.2                   33%   \n",
       "\n",
       "  Female:Male Ratio OverAll Score  Teaching Score  Research Score  \\\n",
       "0           48 : 52          96.4            92.3            99.7   \n",
       "1           50 : 50          95.2            94.8            99.0   \n",
       "2           47 : 53          94.8            90.9            99.5   \n",
       "3           46 : 54          94.8            94.2            96.7   \n",
       "4           40 : 60          94.2            90.7            93.6   \n",
       "\n",
       "   Citations Score  Industry Income Score  International Outlook Score  \n",
       "0             99.0                   74.9                         96.2  \n",
       "1             99.3                   49.5                         80.5  \n",
       "2             97.0                   54.2                         95.8  \n",
       "3             99.8                   65.0                         79.8  \n",
       "4             99.8                   90.9                         89.3  "
      ]
     },
     "execution_count": 4,
     "metadata": {},
     "output_type": "execute_result"
    }
   ],
   "source": [
    "df.head()"
   ]
  },
  {
   "cell_type": "markdown",
   "id": "8684a0d2",
   "metadata": {},
   "source": [
    "# .tail()"
   ]
  },
  {
   "cell_type": "markdown",
   "id": "dc1a3074",
   "metadata": {},
   "source": [
    "tail is used to show rows by Descending order"
   ]
  },
  {
   "cell_type": "code",
   "execution_count": 5,
   "id": "13069e51",
   "metadata": {},
   "outputs": [
    {
     "data": {
      "text/html": [
       "<div>\n",
       "<style scoped>\n",
       "    .dataframe tbody tr th:only-of-type {\n",
       "        vertical-align: middle;\n",
       "    }\n",
       "\n",
       "    .dataframe tbody tr th {\n",
       "        vertical-align: top;\n",
       "    }\n",
       "\n",
       "    .dataframe thead th {\n",
       "        text-align: right;\n",
       "    }\n",
       "</style>\n",
       "<table border=\"1\" class=\"dataframe\">\n",
       "  <thead>\n",
       "    <tr style=\"text-align: right;\">\n",
       "      <th></th>\n",
       "      <th>University Rank</th>\n",
       "      <th>Name of University</th>\n",
       "      <th>Location</th>\n",
       "      <th>No of student</th>\n",
       "      <th>No of student per staff</th>\n",
       "      <th>International Student</th>\n",
       "      <th>Female:Male Ratio</th>\n",
       "      <th>OverAll Score</th>\n",
       "      <th>Teaching Score</th>\n",
       "      <th>Research Score</th>\n",
       "      <th>Citations Score</th>\n",
       "      <th>Industry Income Score</th>\n",
       "      <th>International Outlook Score</th>\n",
       "    </tr>\n",
       "  </thead>\n",
       "  <tbody>\n",
       "    <tr>\n",
       "      <th>2336</th>\n",
       "      <td>-</td>\n",
       "      <td>University of the West of Scotland</td>\n",
       "      <td>NaN</td>\n",
       "      <td>NaN</td>\n",
       "      <td>NaN</td>\n",
       "      <td>NaN</td>\n",
       "      <td>NaN</td>\n",
       "      <td>34.0–39.2</td>\n",
       "      <td>24.1</td>\n",
       "      <td>15.5</td>\n",
       "      <td>61.5</td>\n",
       "      <td>37.9</td>\n",
       "      <td>76.8</td>\n",
       "    </tr>\n",
       "    <tr>\n",
       "      <th>2337</th>\n",
       "      <td>-</td>\n",
       "      <td>University of Windsor</td>\n",
       "      <td>NaN</td>\n",
       "      <td>NaN</td>\n",
       "      <td>NaN</td>\n",
       "      <td>NaN</td>\n",
       "      <td>NaN</td>\n",
       "      <td>34.0–39.2</td>\n",
       "      <td>35.1</td>\n",
       "      <td>29.4</td>\n",
       "      <td>34.5</td>\n",
       "      <td>44.2</td>\n",
       "      <td>88.7</td>\n",
       "    </tr>\n",
       "    <tr>\n",
       "      <th>2338</th>\n",
       "      <td>-</td>\n",
       "      <td>University of Wolverhampton</td>\n",
       "      <td>NaN</td>\n",
       "      <td>NaN</td>\n",
       "      <td>NaN</td>\n",
       "      <td>NaN</td>\n",
       "      <td>NaN</td>\n",
       "      <td>34.0–39.2</td>\n",
       "      <td>18.2</td>\n",
       "      <td>14.3</td>\n",
       "      <td>68.8</td>\n",
       "      <td>37.3</td>\n",
       "      <td>72.0</td>\n",
       "    </tr>\n",
       "    <tr>\n",
       "      <th>2339</th>\n",
       "      <td>-</td>\n",
       "      <td>University of Wuppertal</td>\n",
       "      <td>NaN</td>\n",
       "      <td>NaN</td>\n",
       "      <td>NaN</td>\n",
       "      <td>NaN</td>\n",
       "      <td>NaN</td>\n",
       "      <td>34.0–39.2</td>\n",
       "      <td>26.4</td>\n",
       "      <td>26.7</td>\n",
       "      <td>52.8</td>\n",
       "      <td>52.1</td>\n",
       "      <td>47.6</td>\n",
       "    </tr>\n",
       "    <tr>\n",
       "      <th>2340</th>\n",
       "      <td>-</td>\n",
       "      <td>Xi’an Jiaotong-Liverpool University</td>\n",
       "      <td>NaN</td>\n",
       "      <td>NaN</td>\n",
       "      <td>NaN</td>\n",
       "      <td>NaN</td>\n",
       "      <td>NaN</td>\n",
       "      <td>34.0–39.2</td>\n",
       "      <td>17.8</td>\n",
       "      <td>14.8</td>\n",
       "      <td>68.2</td>\n",
       "      <td>38.2</td>\n",
       "      <td>72.4</td>\n",
       "    </tr>\n",
       "  </tbody>\n",
       "</table>\n",
       "</div>"
      ],
      "text/plain": [
       "     University Rank                   Name of University Location  \\\n",
       "2336               -   University of the West of Scotland      NaN   \n",
       "2337               -                University of Windsor      NaN   \n",
       "2338               -          University of Wolverhampton      NaN   \n",
       "2339               -              University of Wuppertal      NaN   \n",
       "2340               -  Xi’an Jiaotong-Liverpool University      NaN   \n",
       "\n",
       "     No of student  No of student per staff International Student  \\\n",
       "2336           NaN                      NaN                   NaN   \n",
       "2337           NaN                      NaN                   NaN   \n",
       "2338           NaN                      NaN                   NaN   \n",
       "2339           NaN                      NaN                   NaN   \n",
       "2340           NaN                      NaN                   NaN   \n",
       "\n",
       "     Female:Male Ratio OverAll Score  Teaching Score  Research Score  \\\n",
       "2336               NaN     34.0–39.2            24.1            15.5   \n",
       "2337               NaN     34.0–39.2            35.1            29.4   \n",
       "2338               NaN     34.0–39.2            18.2            14.3   \n",
       "2339               NaN     34.0–39.2            26.4            26.7   \n",
       "2340               NaN     34.0–39.2            17.8            14.8   \n",
       "\n",
       "      Citations Score  Industry Income Score  International Outlook Score  \n",
       "2336             61.5                   37.9                         76.8  \n",
       "2337             34.5                   44.2                         88.7  \n",
       "2338             68.8                   37.3                         72.0  \n",
       "2339             52.8                   52.1                         47.6  \n",
       "2340             68.2                   38.2                         72.4  "
      ]
     },
     "execution_count": 5,
     "metadata": {},
     "output_type": "execute_result"
    }
   ],
   "source": [
    "df.tail()"
   ]
  },
  {
   "cell_type": "markdown",
   "id": "e76fc80f",
   "metadata": {},
   "source": [
    "# .shape"
   ]
  },
  {
   "cell_type": "markdown",
   "id": "21d6d5af",
   "metadata": {},
   "source": [
    "It show the total no of rows & Column in the dataset"
   ]
  },
  {
   "cell_type": "code",
   "execution_count": 6,
   "id": "e34d1ec4",
   "metadata": {},
   "outputs": [
    {
     "data": {
      "text/plain": [
       "(2341, 13)"
      ]
     },
     "execution_count": 6,
     "metadata": {},
     "output_type": "execute_result"
    }
   ],
   "source": [
    "df.shape"
   ]
  },
  {
   "cell_type": "markdown",
   "id": "618b8c56",
   "metadata": {},
   "source": [
    "# .Columns"
   ]
  },
  {
   "cell_type": "markdown",
   "id": "81d5b891",
   "metadata": {},
   "source": [
    "It show the no of each Column"
   ]
  },
  {
   "cell_type": "code",
   "execution_count": 7,
   "id": "d90a23ca",
   "metadata": {},
   "outputs": [
    {
     "data": {
      "text/plain": [
       "Index(['University Rank', 'Name of University', 'Location', 'No of student',\n",
       "       'No of student per staff', 'International Student', 'Female:Male Ratio',\n",
       "       'OverAll Score', 'Teaching Score', 'Research Score', 'Citations Score',\n",
       "       'Industry Income Score', 'International Outlook Score'],\n",
       "      dtype='object')"
      ]
     },
     "execution_count": 7,
     "metadata": {},
     "output_type": "execute_result"
    }
   ],
   "source": [
    "df.columns"
   ]
  },
  {
   "cell_type": "markdown",
   "id": "4c3f8320",
   "metadata": {},
   "source": [
    "# .dtypes"
   ]
  },
  {
   "cell_type": "markdown",
   "id": "19881edc",
   "metadata": {},
   "source": [
    "This Attribute show the data type of each column"
   ]
  },
  {
   "cell_type": "code",
   "execution_count": 8,
   "id": "4a5c7bdd",
   "metadata": {},
   "outputs": [
    {
     "data": {
      "text/plain": [
       "University Rank                 object\n",
       "Name of University              object\n",
       "Location                        object\n",
       "No of student                   object\n",
       "No of student per staff        float64\n",
       "International Student           object\n",
       "Female:Male Ratio               object\n",
       "OverAll Score                   object\n",
       "Teaching Score                 float64\n",
       "Research Score                 float64\n",
       "Citations Score                float64\n",
       "Industry Income Score          float64\n",
       "International Outlook Score    float64\n",
       "dtype: object"
      ]
     },
     "execution_count": 8,
     "metadata": {},
     "output_type": "execute_result"
    }
   ],
   "source": [
    "df.dtypes"
   ]
  },
  {
   "cell_type": "markdown",
   "id": "f641048a",
   "metadata": {},
   "source": [
    "# .unique()"
   ]
  },
  {
   "cell_type": "markdown",
   "id": "bf6d4f5e",
   "metadata": {},
   "source": [
    "In a column, It show the unique value of specific column."
   ]
  },
  {
   "cell_type": "code",
   "execution_count": 9,
   "id": "bb0f0dd0",
   "metadata": {},
   "outputs": [
    {
     "data": {
      "text/plain": [
       "array(['United Kingdom', 'United States', 'Switzerland', nan, 'Canada',\n",
       "       'Australia', 'Singapore', 'Japan', 'France', 'Sweden', 'China',\n",
       "       'South Korea', 'Netherlands', 'Germany', 'Belgium', 'Finland',\n",
       "       'Denmark', 'Austria', 'Norway', 'New Zealand', 'Spain', 'Italy',\n",
       "       'Saudi Arabia', 'Luxembourg', 'Qatar', 'Brazil', 'Israel',\n",
       "       'Ireland', 'Taiwan', 'India', 'United Arab Emirates',\n",
       "       'Brunei Darussalam', 'Iceland', 'Lebanon', 'Philippines',\n",
       "       'Portugal', 'Iran', 'Malaysia', 'Poland', 'Egypt', 'Turkey',\n",
       "       'Greece', 'Vietnam', 'Algeria', 'Nigeria', 'Tanzania', 'Chile',\n",
       "       'Pakistan', 'Ukraine', 'Romania', 'Czech Republic', 'South Africa',\n",
       "       'Northern Cyprus', 'Hong Kong', 'Ethiopia', 'Jordan', 'Serbia',\n",
       "       'Sri Lanka', 'Jamaica', 'Zambia', 'Iraq', 'Costa Rica', 'Cyprus',\n",
       "       'Bangladesh', 'Mozambique', 'Colombia', 'Kenya', 'Namibia', 'Peru',\n",
       "       'Latvia', 'Oman', 'Thailand', 'Lithuania', 'Slovenia', 'Uganda',\n",
       "       'Malta', 'Nepal', 'Kazakhstan', 'Mexico', 'Botswana', 'Slovakia',\n",
       "       'Ghana', 'Morocco', 'Georgia', 'Tunisia', 'Mauritius', 'Hungary',\n",
       "       'Puerto Rico', 'Ecuador', 'Fiji', 'Croatia', 'Estonia', 'Zimbabwe',\n",
       "       'Indonesia', 'Argentina', 'Bulgaria', 'Venezuela', 'Azerbaijan',\n",
       "       'Cuba', 'Montenegro', 'Uzbekistan', 'Palestine', 'Kuwait',\n",
       "       'Somalia', 'Libya', 'Moldova', 'Kyrgyzstan', 'Malawi', 'Paraguay',\n",
       "       'Mongolia', 'Armenia', 'Sudan', 'Turkmenistan', 'Uruguay',\n",
       "       'Albania', 'Cambodia', 'Kosovo'], dtype=object)"
      ]
     },
     "execution_count": 9,
     "metadata": {},
     "output_type": "execute_result"
    }
   ],
   "source": [
    "df[\"Location\"].unique()"
   ]
  },
  {
   "cell_type": "markdown",
   "id": "f34840f6",
   "metadata": {},
   "source": [
    "# .nuique()"
   ]
  },
  {
   "cell_type": "markdown",
   "id": "73792a7b",
   "metadata": {},
   "source": [
    "It will show the total no of unque value from whole data frame"
   ]
  },
  {
   "cell_type": "code",
   "execution_count": 10,
   "id": "2e192d57",
   "metadata": {},
   "outputs": [
    {
     "data": {
      "text/plain": [
       "University Rank                 162\n",
       "Name of University             2233\n",
       "Location                        116\n",
       "No of student                  2136\n",
       "No of student per staff         420\n",
       "International Student            79\n",
       "Female:Male Ratio                87\n",
       "OverAll Score                   160\n",
       "Teaching Score                  437\n",
       "Research Score                  477\n",
       "Citations Score                 820\n",
       "Industry Income Score           391\n",
       "International Outlook Score     694\n",
       "dtype: int64"
      ]
     },
     "execution_count": 10,
     "metadata": {},
     "output_type": "execute_result"
    }
   ],
   "source": [
    "df.nunique()"
   ]
  },
  {
   "cell_type": "markdown",
   "id": "4d234903",
   "metadata": {},
   "source": [
    "# .describe()"
   ]
  },
  {
   "cell_type": "markdown",
   "id": "dff6dbc9",
   "metadata": {},
   "source": [
    "It show the Count, mean , median etc"
   ]
  },
  {
   "cell_type": "code",
   "execution_count": 11,
   "id": "dba2fda3",
   "metadata": {},
   "outputs": [
    {
     "data": {
      "text/html": [
       "<div>\n",
       "<style scoped>\n",
       "    .dataframe tbody tr th:only-of-type {\n",
       "        vertical-align: middle;\n",
       "    }\n",
       "\n",
       "    .dataframe tbody tr th {\n",
       "        vertical-align: top;\n",
       "    }\n",
       "\n",
       "    .dataframe thead th {\n",
       "        text-align: right;\n",
       "    }\n",
       "</style>\n",
       "<table border=\"1\" class=\"dataframe\">\n",
       "  <thead>\n",
       "    <tr style=\"text-align: right;\">\n",
       "      <th></th>\n",
       "      <th>No of student per staff</th>\n",
       "      <th>Teaching Score</th>\n",
       "      <th>Research Score</th>\n",
       "      <th>Citations Score</th>\n",
       "      <th>Industry Income Score</th>\n",
       "      <th>International Outlook Score</th>\n",
       "    </tr>\n",
       "  </thead>\n",
       "  <tbody>\n",
       "    <tr>\n",
       "      <th>count</th>\n",
       "      <td>2208.000000</td>\n",
       "      <td>1799.000000</td>\n",
       "      <td>1799.000000</td>\n",
       "      <td>1799.000000</td>\n",
       "      <td>1799.000000</td>\n",
       "      <td>1799.000000</td>\n",
       "    </tr>\n",
       "    <tr>\n",
       "      <th>mean</th>\n",
       "      <td>19.000408</td>\n",
       "      <td>27.018010</td>\n",
       "      <td>23.016898</td>\n",
       "      <td>48.495887</td>\n",
       "      <td>47.104558</td>\n",
       "      <td>46.880378</td>\n",
       "    </tr>\n",
       "    <tr>\n",
       "      <th>std</th>\n",
       "      <td>12.132224</td>\n",
       "      <td>13.282243</td>\n",
       "      <td>16.763819</td>\n",
       "      <td>27.967185</td>\n",
       "      <td>15.093682</td>\n",
       "      <td>22.582401</td>\n",
       "    </tr>\n",
       "    <tr>\n",
       "      <th>min</th>\n",
       "      <td>0.400000</td>\n",
       "      <td>11.600000</td>\n",
       "      <td>7.400000</td>\n",
       "      <td>0.800000</td>\n",
       "      <td>36.900000</td>\n",
       "      <td>14.100000</td>\n",
       "    </tr>\n",
       "    <tr>\n",
       "      <th>25%</th>\n",
       "      <td>12.600000</td>\n",
       "      <td>18.000000</td>\n",
       "      <td>11.300000</td>\n",
       "      <td>23.100000</td>\n",
       "      <td>37.800000</td>\n",
       "      <td>27.900000</td>\n",
       "    </tr>\n",
       "    <tr>\n",
       "      <th>50%</th>\n",
       "      <td>16.600000</td>\n",
       "      <td>22.700000</td>\n",
       "      <td>17.000000</td>\n",
       "      <td>47.200000</td>\n",
       "      <td>40.500000</td>\n",
       "      <td>42.100000</td>\n",
       "    </tr>\n",
       "    <tr>\n",
       "      <th>75%</th>\n",
       "      <td>22.200000</td>\n",
       "      <td>31.850000</td>\n",
       "      <td>28.900000</td>\n",
       "      <td>72.350000</td>\n",
       "      <td>48.300000</td>\n",
       "      <td>62.100000</td>\n",
       "    </tr>\n",
       "    <tr>\n",
       "      <th>max</th>\n",
       "      <td>232.200000</td>\n",
       "      <td>94.800000</td>\n",
       "      <td>99.700000</td>\n",
       "      <td>100.000000</td>\n",
       "      <td>100.000000</td>\n",
       "      <td>99.700000</td>\n",
       "    </tr>\n",
       "  </tbody>\n",
       "</table>\n",
       "</div>"
      ],
      "text/plain": [
       "       No of student per staff  Teaching Score  Research Score  \\\n",
       "count              2208.000000     1799.000000     1799.000000   \n",
       "mean                 19.000408       27.018010       23.016898   \n",
       "std                  12.132224       13.282243       16.763819   \n",
       "min                   0.400000       11.600000        7.400000   \n",
       "25%                  12.600000       18.000000       11.300000   \n",
       "50%                  16.600000       22.700000       17.000000   \n",
       "75%                  22.200000       31.850000       28.900000   \n",
       "max                 232.200000       94.800000       99.700000   \n",
       "\n",
       "       Citations Score  Industry Income Score  International Outlook Score  \n",
       "count      1799.000000            1799.000000                  1799.000000  \n",
       "mean         48.495887              47.104558                    46.880378  \n",
       "std          27.967185              15.093682                    22.582401  \n",
       "min           0.800000              36.900000                    14.100000  \n",
       "25%          23.100000              37.800000                    27.900000  \n",
       "50%          47.200000              40.500000                    42.100000  \n",
       "75%          72.350000              48.300000                    62.100000  \n",
       "max         100.000000             100.000000                    99.700000  "
      ]
     },
     "execution_count": 11,
     "metadata": {},
     "output_type": "execute_result"
    }
   ],
   "source": [
    "df.describe()"
   ]
  },
  {
   "cell_type": "markdown",
   "id": "e0a1161b",
   "metadata": {},
   "source": [
    "# .value_counts"
   ]
  },
  {
   "cell_type": "markdown",
   "id": "dcea0077",
   "metadata": {},
   "source": [
    "It Shows all the unique values with their count"
   ]
  },
  {
   "cell_type": "code",
   "execution_count": 12,
   "id": "8a63f82e",
   "metadata": {},
   "outputs": [
    {
     "data": {
      "text/plain": [
       "United States     173\n",
       "Japan             150\n",
       "United Kingdom    149\n",
       "India              91\n",
       "China              82\n",
       "                 ... \n",
       "Puerto Rico         1\n",
       "Mozambique          1\n",
       "Mauritius           1\n",
       "Namibia             1\n",
       "Kosovo              1\n",
       "Name: Location, Length: 116, dtype: int64"
      ]
     },
     "execution_count": 12,
     "metadata": {},
     "output_type": "execute_result"
    }
   ],
   "source": [
    "df[\"Location\"].value_counts()"
   ]
  },
  {
   "cell_type": "markdown",
   "id": "f55f4c89",
   "metadata": {},
   "source": [
    "# .isnull()"
   ]
  },
  {
   "cell_type": "markdown",
   "id": "cb961a9d",
   "metadata": {},
   "source": [
    "It shows the how many null values"
   ]
  },
  {
   "cell_type": "code",
   "execution_count": 13,
   "id": "614ae149",
   "metadata": {},
   "outputs": [
    {
     "data": {
      "text/html": [
       "<div>\n",
       "<style scoped>\n",
       "    .dataframe tbody tr th:only-of-type {\n",
       "        vertical-align: middle;\n",
       "    }\n",
       "\n",
       "    .dataframe tbody tr th {\n",
       "        vertical-align: top;\n",
       "    }\n",
       "\n",
       "    .dataframe thead th {\n",
       "        text-align: right;\n",
       "    }\n",
       "</style>\n",
       "<table border=\"1\" class=\"dataframe\">\n",
       "  <thead>\n",
       "    <tr style=\"text-align: right;\">\n",
       "      <th></th>\n",
       "      <th>University Rank</th>\n",
       "      <th>Name of University</th>\n",
       "      <th>Location</th>\n",
       "      <th>No of student</th>\n",
       "      <th>No of student per staff</th>\n",
       "      <th>International Student</th>\n",
       "      <th>Female:Male Ratio</th>\n",
       "      <th>OverAll Score</th>\n",
       "      <th>Teaching Score</th>\n",
       "      <th>Research Score</th>\n",
       "      <th>Citations Score</th>\n",
       "      <th>Industry Income Score</th>\n",
       "      <th>International Outlook Score</th>\n",
       "    </tr>\n",
       "  </thead>\n",
       "  <tbody>\n",
       "    <tr>\n",
       "      <th>0</th>\n",
       "      <td>False</td>\n",
       "      <td>False</td>\n",
       "      <td>False</td>\n",
       "      <td>False</td>\n",
       "      <td>False</td>\n",
       "      <td>False</td>\n",
       "      <td>False</td>\n",
       "      <td>False</td>\n",
       "      <td>False</td>\n",
       "      <td>False</td>\n",
       "      <td>False</td>\n",
       "      <td>False</td>\n",
       "      <td>False</td>\n",
       "    </tr>\n",
       "    <tr>\n",
       "      <th>1</th>\n",
       "      <td>False</td>\n",
       "      <td>False</td>\n",
       "      <td>False</td>\n",
       "      <td>False</td>\n",
       "      <td>False</td>\n",
       "      <td>False</td>\n",
       "      <td>False</td>\n",
       "      <td>False</td>\n",
       "      <td>False</td>\n",
       "      <td>False</td>\n",
       "      <td>False</td>\n",
       "      <td>False</td>\n",
       "      <td>False</td>\n",
       "    </tr>\n",
       "    <tr>\n",
       "      <th>2</th>\n",
       "      <td>False</td>\n",
       "      <td>False</td>\n",
       "      <td>False</td>\n",
       "      <td>False</td>\n",
       "      <td>False</td>\n",
       "      <td>False</td>\n",
       "      <td>False</td>\n",
       "      <td>False</td>\n",
       "      <td>False</td>\n",
       "      <td>False</td>\n",
       "      <td>False</td>\n",
       "      <td>False</td>\n",
       "      <td>False</td>\n",
       "    </tr>\n",
       "    <tr>\n",
       "      <th>3</th>\n",
       "      <td>False</td>\n",
       "      <td>False</td>\n",
       "      <td>False</td>\n",
       "      <td>False</td>\n",
       "      <td>False</td>\n",
       "      <td>False</td>\n",
       "      <td>False</td>\n",
       "      <td>False</td>\n",
       "      <td>False</td>\n",
       "      <td>False</td>\n",
       "      <td>False</td>\n",
       "      <td>False</td>\n",
       "      <td>False</td>\n",
       "    </tr>\n",
       "    <tr>\n",
       "      <th>4</th>\n",
       "      <td>False</td>\n",
       "      <td>False</td>\n",
       "      <td>False</td>\n",
       "      <td>False</td>\n",
       "      <td>False</td>\n",
       "      <td>False</td>\n",
       "      <td>False</td>\n",
       "      <td>False</td>\n",
       "      <td>False</td>\n",
       "      <td>False</td>\n",
       "      <td>False</td>\n",
       "      <td>False</td>\n",
       "      <td>False</td>\n",
       "    </tr>\n",
       "    <tr>\n",
       "      <th>...</th>\n",
       "      <td>...</td>\n",
       "      <td>...</td>\n",
       "      <td>...</td>\n",
       "      <td>...</td>\n",
       "      <td>...</td>\n",
       "      <td>...</td>\n",
       "      <td>...</td>\n",
       "      <td>...</td>\n",
       "      <td>...</td>\n",
       "      <td>...</td>\n",
       "      <td>...</td>\n",
       "      <td>...</td>\n",
       "      <td>...</td>\n",
       "    </tr>\n",
       "    <tr>\n",
       "      <th>2336</th>\n",
       "      <td>False</td>\n",
       "      <td>False</td>\n",
       "      <td>True</td>\n",
       "      <td>True</td>\n",
       "      <td>True</td>\n",
       "      <td>True</td>\n",
       "      <td>True</td>\n",
       "      <td>False</td>\n",
       "      <td>False</td>\n",
       "      <td>False</td>\n",
       "      <td>False</td>\n",
       "      <td>False</td>\n",
       "      <td>False</td>\n",
       "    </tr>\n",
       "    <tr>\n",
       "      <th>2337</th>\n",
       "      <td>False</td>\n",
       "      <td>False</td>\n",
       "      <td>True</td>\n",
       "      <td>True</td>\n",
       "      <td>True</td>\n",
       "      <td>True</td>\n",
       "      <td>True</td>\n",
       "      <td>False</td>\n",
       "      <td>False</td>\n",
       "      <td>False</td>\n",
       "      <td>False</td>\n",
       "      <td>False</td>\n",
       "      <td>False</td>\n",
       "    </tr>\n",
       "    <tr>\n",
       "      <th>2338</th>\n",
       "      <td>False</td>\n",
       "      <td>False</td>\n",
       "      <td>True</td>\n",
       "      <td>True</td>\n",
       "      <td>True</td>\n",
       "      <td>True</td>\n",
       "      <td>True</td>\n",
       "      <td>False</td>\n",
       "      <td>False</td>\n",
       "      <td>False</td>\n",
       "      <td>False</td>\n",
       "      <td>False</td>\n",
       "      <td>False</td>\n",
       "    </tr>\n",
       "    <tr>\n",
       "      <th>2339</th>\n",
       "      <td>False</td>\n",
       "      <td>False</td>\n",
       "      <td>True</td>\n",
       "      <td>True</td>\n",
       "      <td>True</td>\n",
       "      <td>True</td>\n",
       "      <td>True</td>\n",
       "      <td>False</td>\n",
       "      <td>False</td>\n",
       "      <td>False</td>\n",
       "      <td>False</td>\n",
       "      <td>False</td>\n",
       "      <td>False</td>\n",
       "    </tr>\n",
       "    <tr>\n",
       "      <th>2340</th>\n",
       "      <td>False</td>\n",
       "      <td>False</td>\n",
       "      <td>True</td>\n",
       "      <td>True</td>\n",
       "      <td>True</td>\n",
       "      <td>True</td>\n",
       "      <td>True</td>\n",
       "      <td>False</td>\n",
       "      <td>False</td>\n",
       "      <td>False</td>\n",
       "      <td>False</td>\n",
       "      <td>False</td>\n",
       "      <td>False</td>\n",
       "    </tr>\n",
       "  </tbody>\n",
       "</table>\n",
       "<p>2341 rows × 13 columns</p>\n",
       "</div>"
      ],
      "text/plain": [
       "      University Rank  Name of University  Location  No of student  \\\n",
       "0               False               False     False          False   \n",
       "1               False               False     False          False   \n",
       "2               False               False     False          False   \n",
       "3               False               False     False          False   \n",
       "4               False               False     False          False   \n",
       "...               ...                 ...       ...            ...   \n",
       "2336            False               False      True           True   \n",
       "2337            False               False      True           True   \n",
       "2338            False               False      True           True   \n",
       "2339            False               False      True           True   \n",
       "2340            False               False      True           True   \n",
       "\n",
       "      No of student per staff  International Student  Female:Male Ratio  \\\n",
       "0                       False                  False              False   \n",
       "1                       False                  False              False   \n",
       "2                       False                  False              False   \n",
       "3                       False                  False              False   \n",
       "4                       False                  False              False   \n",
       "...                       ...                    ...                ...   \n",
       "2336                     True                   True               True   \n",
       "2337                     True                   True               True   \n",
       "2338                     True                   True               True   \n",
       "2339                     True                   True               True   \n",
       "2340                     True                   True               True   \n",
       "\n",
       "      OverAll Score  Teaching Score  Research Score  Citations Score  \\\n",
       "0             False           False           False            False   \n",
       "1             False           False           False            False   \n",
       "2             False           False           False            False   \n",
       "3             False           False           False            False   \n",
       "4             False           False           False            False   \n",
       "...             ...             ...             ...              ...   \n",
       "2336          False           False           False            False   \n",
       "2337          False           False           False            False   \n",
       "2338          False           False           False            False   \n",
       "2339          False           False           False            False   \n",
       "2340          False           False           False            False   \n",
       "\n",
       "      Industry Income Score  International Outlook Score  \n",
       "0                     False                        False  \n",
       "1                     False                        False  \n",
       "2                     False                        False  \n",
       "3                     False                        False  \n",
       "4                     False                        False  \n",
       "...                     ...                          ...  \n",
       "2336                  False                        False  \n",
       "2337                  False                        False  \n",
       "2338                  False                        False  \n",
       "2339                  False                        False  \n",
       "2340                  False                        False  \n",
       "\n",
       "[2341 rows x 13 columns]"
      ]
     },
     "execution_count": 13,
     "metadata": {},
     "output_type": "execute_result"
    }
   ],
   "source": [
    "df.isnull()"
   ]
  },
  {
   "cell_type": "code",
   "execution_count": 14,
   "id": "862d0875",
   "metadata": {},
   "outputs": [
    {
     "data": {
      "image/png": "[encoded data removed]",
      "text/plain": [
       "<Figure size 432x288 with 2 Axes>"
      ]
     },
     "metadata": {
      "needs_background": "light"
     },
     "output_type": "display_data"
    }
   ],
   "source": [
    "sns.heatmap(df.isnull())\n",
    "plt.show()"
   ]
  },
  {
   "cell_type": "markdown",
   "id": "dacfa6c1",
   "metadata": {},
   "source": [
    "# Drop Null Values"
   ]
  },
  {
   "cell_type": "code",
   "execution_count": 15,
   "id": "f5940872",
   "metadata": {},
   "outputs": [],
   "source": [
    "df.dropna(axis = 0, inplace =True)"
   ]
  },
  {
   "cell_type": "code",
   "execution_count": 16,
   "id": "feb9cb4a",
   "metadata": {},
   "outputs": [
    {
     "data": {
      "text/plain": [
       "<AxesSubplot:>"
      ]
     },
     "execution_count": 16,
     "metadata": {},
     "output_type": "execute_result"
    },
    {
     "data": {
      "image/png": "[encoded data removed]",
      "text/plain": [
       "<Figure size 432x288 with 2 Axes>"
      ]
     },
     "metadata": {
      "needs_background": "light"
     },
     "output_type": "display_data"
    }
   ],
   "source": [
    "sns.heatmap(df.isnull())"
   ]
  },
  {
   "cell_type": "markdown",
   "id": "2a559d64",
   "metadata": {},
   "source": [
    "# Find Duplicate Values"
   ]
  },
  {
   "cell_type": "code",
   "execution_count": 17,
   "id": "b85b9776",
   "metadata": {},
   "outputs": [
    {
     "data": {
      "text/html": [
       "<div>\n",
       "<style scoped>\n",
       "    .dataframe tbody tr th:only-of-type {\n",
       "        vertical-align: middle;\n",
       "    }\n",
       "\n",
       "    .dataframe tbody tr th {\n",
       "        vertical-align: top;\n",
       "    }\n",
       "\n",
       "    .dataframe thead th {\n",
       "        text-align: right;\n",
       "    }\n",
       "</style>\n",
       "<table border=\"1\" class=\"dataframe\">\n",
       "  <thead>\n",
       "    <tr style=\"text-align: right;\">\n",
       "      <th></th>\n",
       "      <th>index</th>\n",
       "      <th>0</th>\n",
       "    </tr>\n",
       "  </thead>\n",
       "  <tbody>\n",
       "    <tr>\n",
       "      <th>0</th>\n",
       "      <td>0</td>\n",
       "      <td>False</td>\n",
       "    </tr>\n",
       "    <tr>\n",
       "      <th>1</th>\n",
       "      <td>1</td>\n",
       "      <td>False</td>\n",
       "    </tr>\n",
       "    <tr>\n",
       "      <th>2</th>\n",
       "      <td>2</td>\n",
       "      <td>False</td>\n",
       "    </tr>\n",
       "    <tr>\n",
       "      <th>3</th>\n",
       "      <td>3</td>\n",
       "      <td>False</td>\n",
       "    </tr>\n",
       "    <tr>\n",
       "      <th>4</th>\n",
       "      <td>4</td>\n",
       "      <td>False</td>\n",
       "    </tr>\n",
       "    <tr>\n",
       "      <th>...</th>\n",
       "      <td>...</td>\n",
       "      <td>...</td>\n",
       "    </tr>\n",
       "    <tr>\n",
       "      <th>1483</th>\n",
       "      <td>1692</td>\n",
       "      <td>False</td>\n",
       "    </tr>\n",
       "    <tr>\n",
       "      <th>1484</th>\n",
       "      <td>1693</td>\n",
       "      <td>False</td>\n",
       "    </tr>\n",
       "    <tr>\n",
       "      <th>1485</th>\n",
       "      <td>1694</td>\n",
       "      <td>False</td>\n",
       "    </tr>\n",
       "    <tr>\n",
       "      <th>1486</th>\n",
       "      <td>1695</td>\n",
       "      <td>False</td>\n",
       "    </tr>\n",
       "    <tr>\n",
       "      <th>1487</th>\n",
       "      <td>1696</td>\n",
       "      <td>False</td>\n",
       "    </tr>\n",
       "  </tbody>\n",
       "</table>\n",
       "<p>1488 rows × 2 columns</p>\n",
       "</div>"
      ],
      "text/plain": [
       "      index      0\n",
       "0         0  False\n",
       "1         1  False\n",
       "2         2  False\n",
       "3         3  False\n",
       "4         4  False\n",
       "...     ...    ...\n",
       "1483   1692  False\n",
       "1484   1693  False\n",
       "1485   1694  False\n",
       "1486   1695  False\n",
       "1487   1696  False\n",
       "\n",
       "[1488 rows x 2 columns]"
      ]
     },
     "execution_count": 17,
     "metadata": {},
     "output_type": "execute_result"
    }
   ],
   "source": [
    "df.duplicated().reset_index()"
   ]
  },
  {
   "cell_type": "markdown",
   "id": "8b1a744e",
   "metadata": {},
   "source": [
    "# Heighest Teaching Score"
   ]
  },
  {
   "cell_type": "code",
   "execution_count": 18,
   "id": "45b9d180",
   "metadata": {},
   "outputs": [
    {
     "data": {
      "text/plain": [
       "94.8"
      ]
     },
     "execution_count": 18,
     "metadata": {},
     "output_type": "execute_result"
    }
   ],
   "source": [
    "df['Teaching Score'].max()"
   ]
  },
  {
   "cell_type": "markdown",
   "id": "2e2037b5",
   "metadata": {},
   "source": [
    "# Lowest Teaching Score"
   ]
  },
  {
   "cell_type": "code",
   "execution_count": 19,
   "id": "dec14f9b",
   "metadata": {},
   "outputs": [
    {
     "data": {
      "text/plain": [
       "11.6"
      ]
     },
     "execution_count": 19,
     "metadata": {},
     "output_type": "execute_result"
    }
   ],
   "source": [
    "df['Teaching Score'].min()"
   ]
  },
  {
   "cell_type": "markdown",
   "id": "ce773fb5",
   "metadata": {},
   "source": [
    "# Teaching Score == 86.0"
   ]
  },
  {
   "cell_type": "code",
   "execution_count": 20,
   "id": "126392fe",
   "metadata": {},
   "outputs": [
    {
     "data": {
      "text/html": [
       "<div>\n",
       "<style scoped>\n",
       "    .dataframe tbody tr th:only-of-type {\n",
       "        vertical-align: middle;\n",
       "    }\n",
       "\n",
       "    .dataframe tbody tr th {\n",
       "        vertical-align: top;\n",
       "    }\n",
       "\n",
       "    .dataframe thead th {\n",
       "        text-align: right;\n",
       "    }\n",
       "</style>\n",
       "<table border=\"1\" class=\"dataframe\">\n",
       "  <thead>\n",
       "    <tr style=\"text-align: right;\">\n",
       "      <th></th>\n",
       "      <th>University Rank</th>\n",
       "      <th>Name of University</th>\n",
       "      <th>Location</th>\n",
       "      <th>No of student</th>\n",
       "      <th>No of student per staff</th>\n",
       "      <th>International Student</th>\n",
       "      <th>Female:Male Ratio</th>\n",
       "      <th>OverAll Score</th>\n",
       "      <th>Teaching Score</th>\n",
       "      <th>Research Score</th>\n",
       "      <th>Citations Score</th>\n",
       "      <th>Industry Income Score</th>\n",
       "      <th>International Outlook Score</th>\n",
       "    </tr>\n",
       "  </thead>\n",
       "  <tbody>\n",
       "    <tr>\n",
       "      <th>13</th>\n",
       "      <td>14</td>\n",
       "      <td>University of Pennsylvania</td>\n",
       "      <td>United States</td>\n",
       "      <td>21,453</td>\n",
       "      <td>6.3</td>\n",
       "      <td>23%</td>\n",
       "      <td>53 : 47</td>\n",
       "      <td>88.8</td>\n",
       "      <td>86.0</td>\n",
       "      <td>88.8</td>\n",
       "      <td>97.0</td>\n",
       "      <td>75.8</td>\n",
       "      <td>71.5</td>\n",
       "    </tr>\n",
       "  </tbody>\n",
       "</table>\n",
       "</div>"
      ],
      "text/plain": [
       "   University Rank          Name of University       Location No of student  \\\n",
       "13              14  University of Pennsylvania  United States        21,453   \n",
       "\n",
       "    No of student per staff International Student Female:Male Ratio  \\\n",
       "13                      6.3                   23%           53 : 47   \n",
       "\n",
       "   OverAll Score  Teaching Score  Research Score  Citations Score  \\\n",
       "13          88.8            86.0            88.8             97.0   \n",
       "\n",
       "    Industry Income Score  International Outlook Score  \n",
       "13                   75.8                         71.5  "
      ]
     },
     "execution_count": 20,
     "metadata": {},
     "output_type": "execute_result"
    }
   ],
   "source": [
    "df[df['Teaching Score'] == 86.0]"
   ]
  },
  {
   "cell_type": "markdown",
   "id": "5f51f687",
   "metadata": {},
   "source": [
    "# Seperating female and male ratio columns"
   ]
  },
  {
   "cell_type": "code",
   "execution_count": 21,
   "id": "8e7f215e",
   "metadata": {},
   "outputs": [
    {
     "data": {
      "text/html": [
       "<div>\n",
       "<style scoped>\n",
       "    .dataframe tbody tr th:only-of-type {\n",
       "        vertical-align: middle;\n",
       "    }\n",
       "\n",
       "    .dataframe tbody tr th {\n",
       "        vertical-align: top;\n",
       "    }\n",
       "\n",
       "    .dataframe thead th {\n",
       "        text-align: right;\n",
       "    }\n",
       "</style>\n",
       "<table border=\"1\" class=\"dataframe\">\n",
       "  <thead>\n",
       "    <tr style=\"text-align: right;\">\n",
       "      <th></th>\n",
       "      <th>University Rank</th>\n",
       "      <th>Name of University</th>\n",
       "      <th>Location</th>\n",
       "      <th>No of student</th>\n",
       "      <th>No of student per staff</th>\n",
       "      <th>International Student</th>\n",
       "      <th>OverAll Score</th>\n",
       "      <th>Teaching Score</th>\n",
       "      <th>Research Score</th>\n",
       "      <th>Citations Score</th>\n",
       "      <th>Industry Income Score</th>\n",
       "      <th>International Outlook Score</th>\n",
       "      <th>Female Ratio</th>\n",
       "      <th>Male Ratio</th>\n",
       "    </tr>\n",
       "  </thead>\n",
       "  <tbody>\n",
       "    <tr>\n",
       "      <th>0</th>\n",
       "      <td>1</td>\n",
       "      <td>University of Oxford</td>\n",
       "      <td>United Kingdom</td>\n",
       "      <td>20,965</td>\n",
       "      <td>10.6</td>\n",
       "      <td>42%</td>\n",
       "      <td>96.4</td>\n",
       "      <td>92.3</td>\n",
       "      <td>99.7</td>\n",
       "      <td>99.0</td>\n",
       "      <td>74.9</td>\n",
       "      <td>96.2</td>\n",
       "      <td>48.0</td>\n",
       "      <td>52.0</td>\n",
       "    </tr>\n",
       "    <tr>\n",
       "      <th>1</th>\n",
       "      <td>2</td>\n",
       "      <td>Harvard University</td>\n",
       "      <td>United States</td>\n",
       "      <td>21,887</td>\n",
       "      <td>9.6</td>\n",
       "      <td>25%</td>\n",
       "      <td>95.2</td>\n",
       "      <td>94.8</td>\n",
       "      <td>99.0</td>\n",
       "      <td>99.3</td>\n",
       "      <td>49.5</td>\n",
       "      <td>80.5</td>\n",
       "      <td>50.0</td>\n",
       "      <td>50.0</td>\n",
       "    </tr>\n",
       "    <tr>\n",
       "      <th>2</th>\n",
       "      <td>3</td>\n",
       "      <td>University of Cambridge</td>\n",
       "      <td>United Kingdom</td>\n",
       "      <td>20,185</td>\n",
       "      <td>11.3</td>\n",
       "      <td>39%</td>\n",
       "      <td>94.8</td>\n",
       "      <td>90.9</td>\n",
       "      <td>99.5</td>\n",
       "      <td>97.0</td>\n",
       "      <td>54.2</td>\n",
       "      <td>95.8</td>\n",
       "      <td>47.0</td>\n",
       "      <td>53.0</td>\n",
       "    </tr>\n",
       "    <tr>\n",
       "      <th>3</th>\n",
       "      <td>3</td>\n",
       "      <td>Stanford University</td>\n",
       "      <td>United States</td>\n",
       "      <td>16,164</td>\n",
       "      <td>7.1</td>\n",
       "      <td>24%</td>\n",
       "      <td>94.8</td>\n",
       "      <td>94.2</td>\n",
       "      <td>96.7</td>\n",
       "      <td>99.8</td>\n",
       "      <td>65.0</td>\n",
       "      <td>79.8</td>\n",
       "      <td>46.0</td>\n",
       "      <td>54.0</td>\n",
       "    </tr>\n",
       "    <tr>\n",
       "      <th>4</th>\n",
       "      <td>5</td>\n",
       "      <td>Massachusetts Institute of Technology</td>\n",
       "      <td>United States</td>\n",
       "      <td>11,415</td>\n",
       "      <td>8.2</td>\n",
       "      <td>33%</td>\n",
       "      <td>94.2</td>\n",
       "      <td>90.7</td>\n",
       "      <td>93.6</td>\n",
       "      <td>99.8</td>\n",
       "      <td>90.9</td>\n",
       "      <td>89.3</td>\n",
       "      <td>40.0</td>\n",
       "      <td>60.0</td>\n",
       "    </tr>\n",
       "  </tbody>\n",
       "</table>\n",
       "</div>"
      ],
      "text/plain": [
       "  University Rank                     Name of University        Location  \\\n",
       "0               1                   University of Oxford  United Kingdom   \n",
       "1               2                     Harvard University   United States   \n",
       "2               3                University of Cambridge  United Kingdom   \n",
       "3               3                    Stanford University   United States   \n",
       "4               5  Massachusetts Institute of Technology   United States   \n",
       "\n",
       "  No of student  No of student per staff International Student OverAll Score  \\\n",
       "0        20,965                     10.6                   42%          96.4   \n",
       "1        21,887                      9.6                   25%          95.2   \n",
       "2        20,185                     11.3                   39%          94.8   \n",
       "3        16,164                      7.1                   24%          94.8   \n",
       "4        11,415                      8.2                   33%          94.2   \n",
       "\n",
       "   Teaching Score  Research Score  Citations Score  Industry Income Score  \\\n",
       "0            92.3            99.7             99.0                   74.9   \n",
       "1            94.8            99.0             99.3                   49.5   \n",
       "2            90.9            99.5             97.0                   54.2   \n",
       "3            94.2            96.7             99.8                   65.0   \n",
       "4            90.7            93.6             99.8                   90.9   \n",
       "\n",
       "   International Outlook Score  Female Ratio  Male Ratio  \n",
       "0                         96.2          48.0        52.0  \n",
       "1                         80.5          50.0        50.0  \n",
       "2                         95.8          47.0        53.0  \n",
       "3                         79.8          46.0        54.0  \n",
       "4                         89.3          40.0        60.0  "
      ]
     },
     "execution_count": 21,
     "metadata": {},
     "output_type": "execute_result"
    }
   ],
   "source": [
    "# Seperating female and male ratio columns\n",
    "df[['Female Ratio', 'Male Ratio']] = df['Female:Male Ratio'].str.split(' : ', expand=True)\n",
    "\n",
    "# Converting the split columns to float\n",
    "df['Female Ratio'] = df['Female Ratio'].astype(float)\n",
    "df['Male Ratio'] = df['Male Ratio'].astype(float)\n",
    "\n",
    "# Drop Original Column\n",
    "df.drop('Female:Male Ratio', axis=1, inplace=True)\n",
    "df.head()"
   ]
  },
  {
   "cell_type": "markdown",
   "id": "ba98e680",
   "metadata": {},
   "source": [
    "# Location wise International Students"
   ]
  },
  {
   "cell_type": "code",
   "execution_count": 42,
   "id": "89ebcdf0",
   "metadata": {},
   "outputs": [
    {
     "data": {
      "text/html": [
       "<div>\n",
       "<style scoped>\n",
       "    .dataframe tbody tr th:only-of-type {\n",
       "        vertical-align: middle;\n",
       "    }\n",
       "\n",
       "    .dataframe tbody tr th {\n",
       "        vertical-align: top;\n",
       "    }\n",
       "\n",
       "    .dataframe thead th {\n",
       "        text-align: right;\n",
       "    }\n",
       "</style>\n",
       "<table border=\"1\" class=\"dataframe\">\n",
       "  <thead>\n",
       "    <tr style=\"text-align: right;\">\n",
       "      <th></th>\n",
       "      <th>Location</th>\n",
       "      <th>International Student</th>\n",
       "    </tr>\n",
       "  </thead>\n",
       "  <tbody>\n",
       "    <tr>\n",
       "      <th>0</th>\n",
       "      <td>Algeria</td>\n",
       "      <td>2%</td>\n",
       "    </tr>\n",
       "    <tr>\n",
       "      <th>1</th>\n",
       "      <td>Argentina</td>\n",
       "      <td>5%</td>\n",
       "    </tr>\n",
       "    <tr>\n",
       "      <th>2</th>\n",
       "      <td>Australia</td>\n",
       "      <td>51%</td>\n",
       "    </tr>\n",
       "    <tr>\n",
       "      <th>3</th>\n",
       "      <td>Austria</td>\n",
       "      <td>46%</td>\n",
       "    </tr>\n",
       "    <tr>\n",
       "      <th>4</th>\n",
       "      <td>Azerbaijan</td>\n",
       "      <td>2%</td>\n",
       "    </tr>\n",
       "  </tbody>\n",
       "</table>\n",
       "</div>"
      ],
      "text/plain": [
       "     Location International Student\n",
       "0     Algeria                    2%\n",
       "1   Argentina                    5%\n",
       "2   Australia                   51%\n",
       "3     Austria                   46%\n",
       "4  Azerbaijan                    2%"
      ]
     },
     "execution_count": 42,
     "metadata": {},
     "output_type": "execute_result"
    }
   ],
   "source": [
    "df.groupby('Location')[\"International Student\"].max().head().reset_index()"
   ]
  },
  {
   "cell_type": "markdown",
   "id": "a192adad",
   "metadata": {},
   "source": [
    "# Top 5 Heighest Score Universities 2023"
   ]
  },
  {
   "cell_type": "code",
   "execution_count": 34,
   "id": "3c65277d",
   "metadata": {},
   "outputs": [
    {
     "data": {
      "text/html": [
       "<div>\n",
       "<style scoped>\n",
       "    .dataframe tbody tr th:only-of-type {\n",
       "        vertical-align: middle;\n",
       "    }\n",
       "\n",
       "    .dataframe tbody tr th {\n",
       "        vertical-align: top;\n",
       "    }\n",
       "\n",
       "    .dataframe thead th {\n",
       "        text-align: right;\n",
       "    }\n",
       "</style>\n",
       "<table border=\"1\" class=\"dataframe\">\n",
       "  <thead>\n",
       "    <tr style=\"text-align: right;\">\n",
       "      <th></th>\n",
       "      <th>University Rank</th>\n",
       "      <th>Name of University</th>\n",
       "      <th>Location</th>\n",
       "      <th>No of student</th>\n",
       "      <th>No of student per staff</th>\n",
       "      <th>International Student</th>\n",
       "      <th>OverAll Score</th>\n",
       "      <th>Teaching Score</th>\n",
       "      <th>Research Score</th>\n",
       "      <th>Citations Score</th>\n",
       "      <th>Industry Income Score</th>\n",
       "      <th>International Outlook Score</th>\n",
       "      <th>Female Ratio</th>\n",
       "      <th>Male Ratio</th>\n",
       "    </tr>\n",
       "  </thead>\n",
       "  <tbody>\n",
       "    <tr>\n",
       "      <th>0</th>\n",
       "      <td>1</td>\n",
       "      <td>University of Oxford</td>\n",
       "      <td>United Kingdom</td>\n",
       "      <td>20,965</td>\n",
       "      <td>10.6</td>\n",
       "      <td>42%</td>\n",
       "      <td>96.4</td>\n",
       "      <td>92.3</td>\n",
       "      <td>99.7</td>\n",
       "      <td>99.0</td>\n",
       "      <td>74.9</td>\n",
       "      <td>96.2</td>\n",
       "      <td>48.0</td>\n",
       "      <td>52.0</td>\n",
       "    </tr>\n",
       "    <tr>\n",
       "      <th>1</th>\n",
       "      <td>2</td>\n",
       "      <td>Harvard University</td>\n",
       "      <td>United States</td>\n",
       "      <td>21,887</td>\n",
       "      <td>9.6</td>\n",
       "      <td>25%</td>\n",
       "      <td>95.2</td>\n",
       "      <td>94.8</td>\n",
       "      <td>99.0</td>\n",
       "      <td>99.3</td>\n",
       "      <td>49.5</td>\n",
       "      <td>80.5</td>\n",
       "      <td>50.0</td>\n",
       "      <td>50.0</td>\n",
       "    </tr>\n",
       "    <tr>\n",
       "      <th>2</th>\n",
       "      <td>3</td>\n",
       "      <td>University of Cambridge</td>\n",
       "      <td>United Kingdom</td>\n",
       "      <td>20,185</td>\n",
       "      <td>11.3</td>\n",
       "      <td>39%</td>\n",
       "      <td>94.8</td>\n",
       "      <td>90.9</td>\n",
       "      <td>99.5</td>\n",
       "      <td>97.0</td>\n",
       "      <td>54.2</td>\n",
       "      <td>95.8</td>\n",
       "      <td>47.0</td>\n",
       "      <td>53.0</td>\n",
       "    </tr>\n",
       "    <tr>\n",
       "      <th>3</th>\n",
       "      <td>3</td>\n",
       "      <td>Stanford University</td>\n",
       "      <td>United States</td>\n",
       "      <td>16,164</td>\n",
       "      <td>7.1</td>\n",
       "      <td>24%</td>\n",
       "      <td>94.8</td>\n",
       "      <td>94.2</td>\n",
       "      <td>96.7</td>\n",
       "      <td>99.8</td>\n",
       "      <td>65.0</td>\n",
       "      <td>79.8</td>\n",
       "      <td>46.0</td>\n",
       "      <td>54.0</td>\n",
       "    </tr>\n",
       "    <tr>\n",
       "      <th>4</th>\n",
       "      <td>5</td>\n",
       "      <td>Massachusetts Institute of Technology</td>\n",
       "      <td>United States</td>\n",
       "      <td>11,415</td>\n",
       "      <td>8.2</td>\n",
       "      <td>33%</td>\n",
       "      <td>94.2</td>\n",
       "      <td>90.7</td>\n",
       "      <td>93.6</td>\n",
       "      <td>99.8</td>\n",
       "      <td>90.9</td>\n",
       "      <td>89.3</td>\n",
       "      <td>40.0</td>\n",
       "      <td>60.0</td>\n",
       "    </tr>\n",
       "  </tbody>\n",
       "</table>\n",
       "</div>"
      ],
      "text/plain": [
       "  University Rank                     Name of University        Location  \\\n",
       "0               1                   University of Oxford  United Kingdom   \n",
       "1               2                     Harvard University   United States   \n",
       "2               3                University of Cambridge  United Kingdom   \n",
       "3               3                    Stanford University   United States   \n",
       "4               5  Massachusetts Institute of Technology   United States   \n",
       "\n",
       "  No of student  No of student per staff International Student OverAll Score  \\\n",
       "0        20,965                     10.6                   42%          96.4   \n",
       "1        21,887                      9.6                   25%          95.2   \n",
       "2        20,185                     11.3                   39%          94.8   \n",
       "3        16,164                      7.1                   24%          94.8   \n",
       "4        11,415                      8.2                   33%          94.2   \n",
       "\n",
       "   Teaching Score  Research Score  Citations Score  Industry Income Score  \\\n",
       "0            92.3            99.7             99.0                   74.9   \n",
       "1            94.8            99.0             99.3                   49.5   \n",
       "2            90.9            99.5             97.0                   54.2   \n",
       "3            94.2            96.7             99.8                   65.0   \n",
       "4            90.7            93.6             99.8                   90.9   \n",
       "\n",
       "   International Outlook Score  Female Ratio  Male Ratio  \n",
       "0                         96.2          48.0        52.0  \n",
       "1                         80.5          50.0        50.0  \n",
       "2                         95.8          47.0        53.0  \n",
       "3                         79.8          46.0        54.0  \n",
       "4                         89.3          40.0        60.0  "
      ]
     },
     "execution_count": 34,
     "metadata": {},
     "output_type": "execute_result"
    }
   ],
   "source": [
    "df.sort_values(by = 'OverAll Score', ascending = False).head()"
   ]
  },
  {
   "cell_type": "code",
   "execution_count": 46,
   "id": "1d331ed3",
   "metadata": {},
   "outputs": [
    {
     "data": {
      "text/html": [
       "<div>\n",
       "<style scoped>\n",
       "    .dataframe tbody tr th:only-of-type {\n",
       "        vertical-align: middle;\n",
       "    }\n",
       "\n",
       "    .dataframe tbody tr th {\n",
       "        vertical-align: top;\n",
       "    }\n",
       "\n",
       "    .dataframe thead th {\n",
       "        text-align: right;\n",
       "    }\n",
       "</style>\n",
       "<table border=\"1\" class=\"dataframe\">\n",
       "  <thead>\n",
       "    <tr style=\"text-align: right;\">\n",
       "      <th></th>\n",
       "      <th>University Rank</th>\n",
       "      <th>Name of University</th>\n",
       "      <th>No of student</th>\n",
       "      <th>No of student per staff</th>\n",
       "      <th>International Student</th>\n",
       "      <th>OverAll Score</th>\n",
       "      <th>Teaching Score</th>\n",
       "      <th>Research Score</th>\n",
       "      <th>Citations Score</th>\n",
       "      <th>Industry Income Score</th>\n",
       "      <th>International Outlook Score</th>\n",
       "      <th>Female Ratio</th>\n",
       "      <th>Male Ratio</th>\n",
       "    </tr>\n",
       "    <tr>\n",
       "      <th>Location</th>\n",
       "      <th></th>\n",
       "      <th></th>\n",
       "      <th></th>\n",
       "      <th></th>\n",
       "      <th></th>\n",
       "      <th></th>\n",
       "      <th></th>\n",
       "      <th></th>\n",
       "      <th></th>\n",
       "      <th></th>\n",
       "      <th></th>\n",
       "      <th></th>\n",
       "      <th></th>\n",
       "    </tr>\n",
       "  </thead>\n",
       "  <tbody>\n",
       "    <tr>\n",
       "      <th>Algeria</th>\n",
       "      <td>401–500</td>\n",
       "      <td>Université Mouloud Mammeri de Tizi-Ouzou</td>\n",
       "      <td>41,841</td>\n",
       "      <td>24.4</td>\n",
       "      <td>2%</td>\n",
       "      <td>42.1–44.9</td>\n",
       "      <td>30.4</td>\n",
       "      <td>19.8</td>\n",
       "      <td>94.7</td>\n",
       "      <td>37.7</td>\n",
       "      <td>44.9</td>\n",
       "      <td>68.0</td>\n",
       "      <td>74.0</td>\n",
       "    </tr>\n",
       "    <tr>\n",
       "      <th>Argentina</th>\n",
       "      <td>1501+</td>\n",
       "      <td>Universidad Nacional del Litoral</td>\n",
       "      <td>47,336</td>\n",
       "      <td>30.0</td>\n",
       "      <td>5%</td>\n",
       "      <td>18.4–24.3</td>\n",
       "      <td>18.3</td>\n",
       "      <td>10.4</td>\n",
       "      <td>28.6</td>\n",
       "      <td>37.9</td>\n",
       "      <td>40.8</td>\n",
       "      <td>64.0</td>\n",
       "      <td>40.0</td>\n",
       "    </tr>\n",
       "    <tr>\n",
       "      <th>Australia</th>\n",
       "      <td>62</td>\n",
       "      <td>Western Sydney University</td>\n",
       "      <td>7,246</td>\n",
       "      <td>69.0</td>\n",
       "      <td>51%</td>\n",
       "      <td>77.6</td>\n",
       "      <td>67.1</td>\n",
       "      <td>75.9</td>\n",
       "      <td>99.9</td>\n",
       "      <td>78.4</td>\n",
       "      <td>96.0</td>\n",
       "      <td>75.0</td>\n",
       "      <td>62.0</td>\n",
       "    </tr>\n",
       "    <tr>\n",
       "      <th>Austria</th>\n",
       "      <td>601–800</td>\n",
       "      <td>University of Vienna</td>\n",
       "      <td>7,274</td>\n",
       "      <td>42.9</td>\n",
       "      <td>46%</td>\n",
       "      <td>60.4</td>\n",
       "      <td>49.4</td>\n",
       "      <td>59.3</td>\n",
       "      <td>96.8</td>\n",
       "      <td>98.1</td>\n",
       "      <td>96.2</td>\n",
       "      <td>68.0</td>\n",
       "      <td>76.0</td>\n",
       "    </tr>\n",
       "    <tr>\n",
       "      <th>Azerbaijan</th>\n",
       "      <td>1501+</td>\n",
       "      <td>Baku State University</td>\n",
       "      <td>23,323</td>\n",
       "      <td>13.3</td>\n",
       "      <td>2%</td>\n",
       "      <td>10.4–18.3</td>\n",
       "      <td>16.5</td>\n",
       "      <td>7.8</td>\n",
       "      <td>15.1</td>\n",
       "      <td>37.2</td>\n",
       "      <td>40.5</td>\n",
       "      <td>66.0</td>\n",
       "      <td>34.0</td>\n",
       "    </tr>\n",
       "  </tbody>\n",
       "</table>\n",
       "</div>"
      ],
      "text/plain": [
       "           University Rank                        Name of University  \\\n",
       "Location                                                               \n",
       "Algeria            401–500  Université Mouloud Mammeri de Tizi-Ouzou   \n",
       "Argentina            1501+          Universidad Nacional del Litoral   \n",
       "Australia               62                 Western Sydney University   \n",
       "Austria            601–800                      University of Vienna   \n",
       "Azerbaijan           1501+                     Baku State University   \n",
       "\n",
       "           No of student  No of student per staff International Student  \\\n",
       "Location                                                                  \n",
       "Algeria           41,841                     24.4                    2%   \n",
       "Argentina         47,336                     30.0                    5%   \n",
       "Australia          7,246                     69.0                   51%   \n",
       "Austria            7,274                     42.9                   46%   \n",
       "Azerbaijan        23,323                     13.3                    2%   \n",
       "\n",
       "           OverAll Score  Teaching Score  Research Score  Citations Score  \\\n",
       "Location                                                                    \n",
       "Algeria        42.1–44.9            30.4            19.8             94.7   \n",
       "Argentina      18.4–24.3            18.3            10.4             28.6   \n",
       "Australia           77.6            67.1            75.9             99.9   \n",
       "Austria             60.4            49.4            59.3             96.8   \n",
       "Azerbaijan     10.4–18.3            16.5             7.8             15.1   \n",
       "\n",
       "            Industry Income Score  International Outlook Score  Female Ratio  \\\n",
       "Location                                                                       \n",
       "Algeria                      37.7                         44.9          68.0   \n",
       "Argentina                    37.9                         40.8          64.0   \n",
       "Australia                    78.4                         96.0          75.0   \n",
       "Austria                      98.1                         96.2          68.0   \n",
       "Azerbaijan                   37.2                         40.5          66.0   \n",
       "\n",
       "            Male Ratio  \n",
       "Location                \n",
       "Algeria           74.0  \n",
       "Argentina         40.0  \n",
       "Australia         62.0  \n",
       "Austria           76.0  \n",
       "Azerbaijan        34.0  "
      ]
     },
     "execution_count": 46,
     "metadata": {},
     "output_type": "execute_result"
    }
   ],
   "source": [
    "df.groupby('Location').max().head()"
   ]
  },
  {
   "cell_type": "markdown",
   "id": "99f7fcee",
   "metadata": {},
   "source": [
    "# What is the average number of students per staff member across all universities?"
   ]
  },
  {
   "cell_type": "code",
   "execution_count": 49,
   "id": "eb317d9b",
   "metadata": {},
   "outputs": [
    {
     "data": {
      "text/plain": [
       "18.83319892473117"
      ]
     },
     "execution_count": 49,
     "metadata": {},
     "output_type": "execute_result"
    }
   ],
   "source": [
    "average_students_per_staff = df['No of student per staff'].mean()\n",
    "average_students_per_staff"
   ]
  },
  {
   "cell_type": "markdown",
   "id": "930bbb0c",
   "metadata": {},
   "source": [
    "# What is  the highest overall score in 2023?"
   ]
  },
  {
   "cell_type": "code",
   "execution_count": 51,
   "id": "20390d71",
   "metadata": {},
   "outputs": [
    {
     "data": {
      "text/plain": [
       "'96.4'"
      ]
     },
     "execution_count": 51,
     "metadata": {},
     "output_type": "execute_result"
    }
   ],
   "source": [
    "highest_score_university = df['OverAll Score'].max()\n",
    "highest_score_university"
   ]
  },
  {
   "cell_type": "markdown",
   "id": "98a8dd6e",
   "metadata": {},
   "source": [
    "# What is the highest Male Ration in 2023?"
   ]
  },
  {
   "cell_type": "code",
   "execution_count": 53,
   "id": "9b0323cc",
   "metadata": {},
   "outputs": [
    {
     "data": {
      "text/plain": [
       "98.0"
      ]
     },
     "execution_count": 53,
     "metadata": {},
     "output_type": "execute_result"
    }
   ],
   "source": [
    "Male_rati = df['Male Ratio'].max()\n",
    "Male_rati"
   ]
  },
  {
   "cell_type": "code",
   "execution_count": 57,
   "id": "0b940ad3",
   "metadata": {},
   "outputs": [
    {
     "data": {
      "image/png": "[encoded data removed]",
      "text/plain": [
       "<Figure size 2160x1872 with 1 Axes>"
      ]
     },
     "metadata": {
      "needs_background": "light"
     },
     "output_type": "display_data"
    }
   ],
   "source": [
    "plt.figure(figsize=(30, 26))  \n",
    "sns.histplot(df['International Student'], bins=20, kde=True, color='skyblue')\n",
    "\n",
    "plt.xlabel('International Student')\n",
    "plt.ylabel('University Rank')\n",
    "plt.title('Distribution of University Rank in 2023')\n",
    "\n",
    "plt.show()"
   ]
  }
 ],
 "metadata": {
  "kernelspec": {
   "display_name": "Python 3 (ipykernel)",
   "language": "python",
   "name": "python3"
  },
  "language_info": {
   "codemirror_mode": {
    "name": "ipython",
    "version": 3
   },
   "file_extension": ".py",
   "mimetype": "text/x-python",
   "name": "python",
   "nbconvert_exporter": "python",
   "pygments_lexer": "ipython3",
   "version": "3.9.12"
  }
 },
 "nbformat": 4,
 "nbformat_minor": 5
}
